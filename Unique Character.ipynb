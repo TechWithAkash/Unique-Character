{
 "cells": [
  {
   "cell_type": "code",
   "execution_count": 1,
   "id": "0ddc8424-c002-439b-9d4e-81c3a5811275",
   "metadata": {},
   "outputs": [],
   "source": [
    "class Solution:\n",
    "    def moveZeroes(self, nums: list) -> None:\n",
    "        slow = 0\n",
    "        for fast in range(len(nums)):\n",
    "            if nums[fast] != 0 and nums[slow] == 0:\n",
    "                nums[slow], nums[fast] = nums[fast], nums[slow]\n",
    "\n",
    "            # wait while we find a non-zero element to\n",
    "            # swap with you\n",
    "            if nums[slow] != 0:\n",
    "                slow += 1"
   ]
  },
  {
   "cell_type": "code",
   "execution_count": null,
   "id": "5385f0dd-6d7b-4a34-9cc6-f3b9fca7234d",
   "metadata": {},
   "outputs": [],
   "source": []
  }
 ],
 "metadata": {
  "kernelspec": {
   "display_name": "Python 3 (ipykernel)",
   "language": "python",
   "name": "python3"
  },
  "language_info": {
   "codemirror_mode": {
    "name": "ipython",
    "version": 3
   },
   "file_extension": ".py",
   "mimetype": "text/x-python",
   "name": "python",
   "nbconvert_exporter": "python",
   "pygments_lexer": "ipython3",
   "version": "3.10.8"
  }
 },
 "nbformat": 4,
 "nbformat_minor": 5
}
